{
 "cells": [
  {
   "cell_type": "code",
   "execution_count": null,
   "id": "f59f91a7",
   "metadata": {},
   "outputs": [
    {
     "name": "stdout",
     "output_type": "stream",
     "text": [
      "Resuming download from 116391936 bytes (9593796251 bytes left)...\n",
      "Resuming download from https://www.kaggle.com/api/v1/datasets/download/pasutchien/bcn20000?dataset_version_number=1 (116391936/9710188187) bytes left.\n"
     ]
    },
    {
     "name": "stderr",
     "output_type": "stream",
     "text": [
      "100%|██████████| 9.04G/9.04G [10:12<00:00, 15.7MB/s] "
     ]
    },
    {
     "name": "stdout",
     "output_type": "stream",
     "text": [
      "Extracting files...\n"
     ]
    },
    {
     "name": "stderr",
     "output_type": "stream",
     "text": [
      "\n"
     ]
    },
    {
     "name": "stdout",
     "output_type": "stream",
     "text": [
      "Dataset path: /Users/kornel/.cache/kagglehub/datasets/pasutchien/bcn20000/versions/1\n",
      "/Users/kornel/.cache/kagglehub/datasets/pasutchien/bcn20000/versions/1\n",
      "    bcn_20k_train.csv\n",
      "    bcn_20k_test.csv\n",
      "/Users/kornel/.cache/kagglehub/datasets/pasutchien/bcn20000/versions/1/BCN_20k_test\n",
      "/Users/kornel/.cache/kagglehub/datasets/pasutchien/bcn20000/versions/1/BCN_20k_test/bcn_20k_test\n",
      "    BCN_0000004072.jpg\n",
      "    BCN_0000014261.jpg\n",
      "    BCN_0000017768.jpg\n",
      "/Users/kornel/.cache/kagglehub/datasets/pasutchien/bcn20000/versions/1/BCN_20k_train\n",
      "/Users/kornel/.cache/kagglehub/datasets/pasutchien/bcn20000/versions/1/BCN_20k_train/bcn_20k_train\n",
      "    BCN_0000012610.jpg\n",
      "    BCN_0000000214.jpg\n",
      "    BCN_0000008648.jpg\n"
     ]
    }
   ],
   "source": [
    "import kagglehub, os, itertools\n",
    "\n",
    "root = kagglehub.dataset_download(\"pasutchien/bcn20000\")\n",
    "print(\"Dataset path:\", root)\n",
    "\n",
    "# Peek a small tree\n",
    "for dirpath, dirnames, filenames in itertools.islice(os.walk(root), 10):\n",
    "    print(dirpath)\n",
    "    for f in filenames[:3]:\n",
    "        print(\"   \", f)"
   ]
  }
 ],
 "metadata": {
  "kernelspec": {
   "display_name": ".venv",
   "language": "python",
   "name": "python3"
  },
  "language_info": {
   "codemirror_mode": {
    "name": "ipython",
    "version": 3
   },
   "file_extension": ".py",
   "mimetype": "text/x-python",
   "name": "python",
   "nbconvert_exporter": "python",
   "pygments_lexer": "ipython3",
   "version": "3.13.3"
  }
 },
 "nbformat": 4,
 "nbformat_minor": 5
}
