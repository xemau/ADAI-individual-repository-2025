{
 "cells": [
  {
   "cell_type": "code",
   "execution_count": 1,
   "id": "d45b567a",
   "metadata": {},
   "outputs": [],
   "source": [
    "# - Imports & setup\n",
    "import sys, os\n",
    "sys.path.append(os.path.abspath(\"..\"))\n",
    "\n",
    "import torch\n",
    "from torch import nn\n",
    "from torch.utils.data import Dataset, DataLoader\n",
    "from PIL import Image\n",
    "from tqdm.auto import tqdm\n",
    "import matplotlib.pyplot as plt\n",
    "\n",
    "from src import load_bcn20000, get_transforms"
   ]
  },
  {
   "cell_type": "code",
   "execution_count": 2,
   "id": "d7d70929",
   "metadata": {},
   "outputs": [],
   "source": [
    "# - Device helper -\n",
    "def get_device():\n",
    "    if torch.backends.mps.is_available():\n",
    "        return torch.device(\"mps\")\n",
    "    if torch.cuda.is_available():\n",
    "        return torch.device(\"cuda\")\n",
    "    return torch.device(\"cpu\")"
   ]
  },
  {
   "cell_type": "code",
   "execution_count": 3,
   "id": "3c2b321e",
   "metadata": {},
   "outputs": [],
   "source": [
    "# — Binary mapping + Data pipeline —\n",
    "class TorchImageDataset(Dataset):\n",
    "    def __init__(self, hf_ds, transform, has_labels=True):\n",
    "        self.ds = hf_ds\n",
    "        self.tf = transform\n",
    "        self.has_labels = has_labels\n",
    "        self.label_feature = hf_ds.features[\"label\"] if has_labels else None\n",
    "    def __len__(self):\n",
    "        return len(self.ds)\n",
    "    def __getitem__(self, idx):\n",
    "        ex = self.ds[idx]\n",
    "        img = ex[\"image\"]\n",
    "        if not isinstance(img, Image.Image):\n",
    "            img = Image.open(img).convert(\"RGB\")\n",
    "        x = self.tf(img)\n",
    "        if self.has_labels:\n",
    "            y = ex[\"label\"]\n",
    "            if isinstance(y, str):\n",
    "                y = self.label_feature.str2int(y)\n",
    "            else:\n",
    "                y = int(y)\n",
    "            return x, y\n",
    "        return x\n",
    "\n",
    "def get_dataloaders(batch_size=64):\n",
    "    malignant = {\"MEL\",\"SCC\",\"BCC\"}\n",
    "    all_labels = [\"MEL\",\"SCC\",\"NV\",\"BCC\",\"BKL\",\"AK\",\"DF\",\"VASC\"]\n",
    "    label_mapping = {lbl:(\"malignant\" if lbl in malignant else \"benign\") for lbl in all_labels}\n",
    "    train_hf = load_bcn20000(split=\"train\", filename_column=\"bcn_filename\", label_column=\"diagnosis\", label_mapping=label_mapping)\n",
    "    val_hf   = load_bcn20000(split=\"validation\", filename_column=\"bcn_filename\", label_column=\"diagnosis\", label_mapping=label_mapping)\n",
    "    label_names = train_hf.features[\"label\"].names\n",
    "    train_tf = get_transforms(train=True)\n",
    "    eval_tf  = get_transforms(train=False)\n",
    "    train_ds = TorchImageDataset(train_hf, train_tf, has_labels=True)\n",
    "    val_ds   = TorchImageDataset(val_hf,   eval_tf,  has_labels=True)\n",
    "    train_loader = DataLoader(train_ds, batch_size=batch_size, shuffle=True,  num_workers=0)\n",
    "    val_loader   = DataLoader(val_ds,   batch_size=batch_size, shuffle=False, num_workers=0)\n",
    "    return train_loader, val_loader, label_names"
   ]
  },
  {
   "cell_type": "code",
   "execution_count": 4,
   "id": "6ca0f9c7",
   "metadata": {},
   "outputs": [],
   "source": [
    "# — Custom CNN (configurable conv filters) —\n",
    "class ConvBlock(nn.Module):\n",
    "    def __init__(self, in_ch, out_ch, k, s=1, p=None):\n",
    "        super().__init__()\n",
    "        pad = (k//2) if p is None else p\n",
    "        self.block = nn.Sequential(\n",
    "            nn.Conv2d(in_ch, out_ch, kernel_size=k, stride=s, padding=pad),\n",
    "            nn.ReLU(inplace=True),\n",
    "            nn.MaxPool2d(kernel_size=2, stride=2)\n",
    "        )\n",
    "    def forward(self, x):\n",
    "        return self.block(x)\n",
    "\n",
    "class FlexibleCNN(nn.Module):\n",
    "    def __init__(self, in_channels, num_classes, channels, kernels, fc_dim=128):\n",
    "        super().__init__()\n",
    "        blocks = []\n",
    "        c_in = in_channels\n",
    "        for c_out, k in zip(channels, kernels):\n",
    "            blocks.append(ConvBlock(c_in, c_out, k))\n",
    "            c_in = c_out\n",
    "        self.features = nn.Sequential(*blocks)\n",
    "        with torch.no_grad():\n",
    "            dummy = torch.zeros(1, 3, 224, 224)\n",
    "            feat = self.features(dummy)\n",
    "            flat_dim = feat.view(1, -1).size(1)\n",
    "        self.classifier = nn.Sequential(\n",
    "            nn.Linear(flat_dim, fc_dim),\n",
    "            nn.ReLU(inplace=True),\n",
    "            nn.Linear(fc_dim, num_classes)\n",
    "        )\n",
    "    def forward(self, x):\n",
    "        x = self.features(x)\n",
    "        x = x.view(x.size(0), -1)\n",
    "        return self.classifier(x)\n",
    "\n",
    "def build_custom_cnn(num_classes, channels, kernels):\n",
    "    return FlexibleCNN(in_channels=3, num_classes=num_classes, channels=channels, kernels=kernels, fc_dim=128)"
   ]
  },
  {
   "cell_type": "code",
   "execution_count": 5,
   "id": "6ba70e6e",
   "metadata": {},
   "outputs": [],
   "source": [
    "# — TorchVision models (and pretrained) —\n",
    "from torchvision import models\n",
    "\n",
    "def _replace_classifier_resnet(model, num_classes):\n",
    "    in_features = model.fc.in_features\n",
    "    model.fc = nn.Linear(in_features, num_classes)\n",
    "    return model\n",
    "\n",
    "def _replace_classifier_mobilenet(model, num_classes):\n",
    "    in_features = model.classifier[-1].in_features\n",
    "    model.classifier[-1] = nn.Linear(in_features, num_classes)\n",
    "    return model\n",
    "\n",
    "def _replace_classifier_efficientnet(model, num_classes):\n",
    "    in_features = model.classifier[-1].in_features\n",
    "    model.classifier[-1] = nn.Linear(in_features, num_classes)\n",
    "    return model\n",
    "\n",
    "def build_resnet18(num_classes, use_pretrained=True):\n",
    "    try:\n",
    "        if use_pretrained:\n",
    "            weights = models.ResNet18_Weights.DEFAULT\n",
    "            model = models.resnet18(weights=weights)\n",
    "        else:\n",
    "            model = models.resnet18(weights=None)\n",
    "    except Exception:\n",
    "        model = models.resnet18(weights=None)\n",
    "    return _replace_classifier_resnet(model, num_classes)\n",
    "\n",
    "def build_mobilenet_v3_small(num_classes, use_pretrained=True):\n",
    "    try:\n",
    "        if use_pretrained:\n",
    "            weights = models.MobileNet_V3_Small_Weights.DEFAULT\n",
    "            model = models.mobilenet_v3_small(weights=weights)\n",
    "        else:\n",
    "            model = models.mobilenet_v3_small(weights=None)\n",
    "    except Exception:\n",
    "        model = models.mobilenet_v3_small(weights=None)\n",
    "    return _replace_classifier_mobilenet(model, num_classes)\n",
    "\n",
    "def build_efficientnet_b0(num_classes, use_pretrained=True):\n",
    "    try:\n",
    "        if use_pretrained:\n",
    "            weights = models.EfficientNet_B0_Weights.DEFAULT\n",
    "            model = models.efficientnet_b0(weights=weights)\n",
    "        else:\n",
    "            model = models.efficientnet_b0(weights=None)\n",
    "    except Exception:\n",
    "        model = models.efficientnet_b0(weights=None)\n",
    "    return _replace_classifier_efficientnet(model, num_classes)"
   ]
  },
  {
   "cell_type": "code",
   "execution_count": 6,
   "id": "41ae8a2e",
   "metadata": {},
   "outputs": [],
   "source": [
    "# - Train & evaluate\n",
    "def evaluate(model, data_loader, device, criterion):\n",
    "    model.eval()\n",
    "    correct, total, running_loss = 0, 0, 0.0\n",
    "    with torch.no_grad():\n",
    "        for xb, yb in data_loader:\n",
    "            xb, yb = xb.to(device), yb.to(device)\n",
    "            out = model(xb)\n",
    "            loss = criterion(out, yb)\n",
    "            running_loss += loss.item()\n",
    "            preds = out.argmax(dim=1)\n",
    "            correct += (preds == yb).sum().item()\n",
    "            total += yb.size(0)\n",
    "    return running_loss / max(1, len(data_loader)), correct / max(1, total)\n",
    "\n",
    "def train_one_model(model, train_loader, val_loader, device, epochs=5, lr=1e-3, class_weights=None):\n",
    "    model = model.to(device)\n",
    "    if class_weights is not None:\n",
    "        criterion = nn.CrossEntropyLoss(weight=class_weights.to(device))\n",
    "    else:\n",
    "        criterion = nn.CrossEntropyLoss()\n",
    "    optimizer = torch.optim.Adam(model.parameters(), lr=lr)\n",
    "    history = {\"loss\": [], \"val_loss\": [], \"val_acc\": []}\n",
    "    for epoch in range(1, epochs+1):\n",
    "        model.train()\n",
    "        running = 0.0\n",
    "        pbar = tqdm(train_loader, desc=f\"Epoch {epoch}/{epochs}\", leave=True)\n",
    "        for xb, yb in pbar:\n",
    "            xb, yb = xb.to(device), yb.to(device)\n",
    "            optimizer.zero_grad()\n",
    "            out = model(xb)\n",
    "            loss = criterion(out, yb)\n",
    "            loss.backward()\n",
    "            optimizer.step()\n",
    "            running += loss.item()\n",
    "            pbar.set_postfix(batch_loss=f\"{loss.item():.4f}\")\n",
    "        tr_loss = running / max(1, len(train_loader))\n",
    "        val_loss, val_acc = evaluate(model, val_loader, device, criterion)\n",
    "        history[\"loss\"].append(tr_loss)\n",
    "        history[\"val_loss\"].append(val_loss)\n",
    "        history[\"val_acc\"].append(val_acc)\n",
    "    return model, history"
   ]
  },
  {
   "cell_type": "code",
   "execution_count": 7,
   "id": "d5343e46",
   "metadata": {},
   "outputs": [],
   "source": [
    "# — Utilities: class weights, summaries, plotting —\n",
    "def compute_class_weights(train_loader, num_classes, device):\n",
    "    counts = torch.zeros(num_classes, dtype=torch.long)\n",
    "    for xb, yb in train_loader:\n",
    "        binc = torch.bincount(yb, minlength=num_classes)\n",
    "        counts += binc\n",
    "    w = 1.0 / counts.clamp(min=1).float()\n",
    "    w = w / w.sum() * num_classes\n",
    "    return w.to(device)\n",
    "\n",
    "def summarize_results(results):\n",
    "    rows = []\n",
    "    for r in results:\n",
    "        name = r[\"name\"]\n",
    "        hist = r[\"history\"]\n",
    "        rows.append((name, round(hist[\"val_acc\"][-1], 4)))\n",
    "    rows = sorted(rows, key=lambda x: x[1], reverse=True)\n",
    "    return rows\n",
    "\n",
    "def plot_history(tag, history):\n",
    "    plt.figure(figsize=(7,4))\n",
    "    plt.plot(history[\"loss\"], label=\"train_loss\")\n",
    "    plt.plot(history[\"val_loss\"], label=\"val_loss\")\n",
    "    plt.xlabel(\"epoch\")\n",
    "    plt.ylabel(\"loss\")\n",
    "    plt.legend()\n",
    "    plt.title(f\"Loss: {tag}\")\n",
    "    plt.show()\n",
    "    plt.figure(figsize=(7,4))\n",
    "    plt.plot(history[\"val_acc\"], label=\"val_acc\")\n",
    "    plt.xlabel(\"epoch\")\n",
    "    plt.ylabel(\"accuracy\")\n",
    "    plt.legend()\n",
    "    plt.title(f\"Val Acc: {tag}\")\n",
    "    plt.show()"
   ]
  },
  {
   "cell_type": "code",
   "execution_count": 8,
   "id": "8d292d85",
   "metadata": {},
   "outputs": [],
   "source": [
    "# — Run convolution filter experiments —\n",
    "def run_conv_experiments(epochs=5, batch_size=64, lr=1e-3):\n",
    "    device = get_device()\n",
    "    train_loader, val_loader, label_names = get_dataloaders(batch_size=batch_size)\n",
    "    num_classes = len(label_names)\n",
    "    class_weights = compute_class_weights(train_loader, num_classes, device)\n",
    "    configs = [\n",
    "        {\"name\":\"custom_k3_32-64\",\"channels\":[32,64],\"kernels\":[3,3]},\n",
    "        {\"name\":\"custom_k5_32-64\",\"channels\":[32,64],\"kernels\":[5,5]},\n",
    "        {\"name\":\"custom_k3_64-128\",\"channels\":[64,128],\"kernels\":[3,3]},\n",
    "        {\"name\":\"custom_mixed_3-5_32-64\",\"channels\":[32,64],\"kernels\":[3,5]},\n",
    "    ]\n",
    "    results = []\n",
    "    for cfg in configs:\n",
    "        model = build_custom_cnn(num_classes=num_classes, channels=cfg[\"channels\"], kernels=cfg[\"kernels\"])\n",
    "        model, hist = train_one_model(model, train_loader, val_loader, device, epochs=epochs, lr=lr, class_weights=class_weights)\n",
    "        results.append({\"name\":cfg[\"name\"], \"history\":hist})\n",
    "    return results"
   ]
  },
  {
   "cell_type": "code",
   "execution_count": 9,
   "id": "ebeae610",
   "metadata": {},
   "outputs": [],
   "source": [
    "# — Run model architecture comparisons —\n",
    "def run_model_experiments(epochs=5, batch_size=64, lr=1e-3, use_pretrained=True):\n",
    "    device = get_device()\n",
    "    train_loader, val_loader, label_names = get_dataloaders(batch_size=batch_size)\n",
    "    num_classes = len(label_names)\n",
    "    class_weights = compute_class_weights(train_loader, num_classes, device)\n",
    "    configs = [\n",
    "        {\"name\":\"resnet18\",         \"builder\":lambda: build_resnet18(num_classes, use_pretrained)},\n",
    "        {\"name\":\"mobilenet_v3_s\",   \"builder\":lambda: build_mobilenet_v3_small(num_classes, use_pretrained)},\n",
    "        {\"name\":\"efficientnet_b0\",  \"builder\":lambda: build_efficientnet_b0(num_classes, use_pretrained)},\n",
    "    ]\n",
    "    results = []\n",
    "    for cfg in configs:\n",
    "        model = cfg[\"builder\"]()\n",
    "        model, hist = train_one_model(model, train_loader, val_loader, device, epochs=epochs, lr=lr, class_weights=class_weights)\n",
    "        results.append({\"name\":cfg[\"name\"], \"history\":hist})\n",
    "    return results"
   ]
  },
  {
   "cell_type": "code",
   "execution_count": 10,
   "id": "10c83829",
   "metadata": {},
   "outputs": [
    {
     "data": {
      "application/vnd.jupyter.widget-view+json": {
       "model_id": "2c8cd636732f4a59b2781d42cefbc578",
       "version_major": 2,
       "version_minor": 0
      },
      "text/plain": [
       "Casting the dataset:   0%|          | 0/12413 [00:00<?, ? examples/s]"
      ]
     },
     "metadata": {},
     "output_type": "display_data"
    },
    {
     "data": {
      "application/vnd.jupyter.widget-view+json": {
       "model_id": "911632e5c5f64c53af4e671953f7e947",
       "version_major": 2,
       "version_minor": 0
      },
      "text/plain": [
       "Casting the dataset:   0%|          | 0/12413 [00:00<?, ? examples/s]"
      ]
     },
     "metadata": {},
     "output_type": "display_data"
    },
    {
     "data": {
      "application/vnd.jupyter.widget-view+json": {
       "model_id": "9cb208ce1bf44f4c8fbabe29281cbe3e",
       "version_major": 2,
       "version_minor": 0
      },
      "text/plain": [
       "Epoch 1/5:   0%|          | 0/194 [00:00<?, ?it/s]"
      ]
     },
     "metadata": {},
     "output_type": "display_data"
    },
    {
     "data": {
      "application/vnd.jupyter.widget-view+json": {
       "model_id": "4c4f5178321a4874817f596b2843d4c7",
       "version_major": 2,
       "version_minor": 0
      },
      "text/plain": [
       "Epoch 2/5:   0%|          | 0/194 [00:00<?, ?it/s]"
      ]
     },
     "metadata": {},
     "output_type": "display_data"
    },
    {
     "data": {
      "application/vnd.jupyter.widget-view+json": {
       "model_id": "d776888b0fb1413cb363dd1cef784d80",
       "version_major": 2,
       "version_minor": 0
      },
      "text/plain": [
       "Epoch 3/5:   0%|          | 0/194 [00:00<?, ?it/s]"
      ]
     },
     "metadata": {},
     "output_type": "display_data"
    },
    {
     "data": {
      "application/vnd.jupyter.widget-view+json": {
       "model_id": "40ef6c2b9bec402b877e261ee96e6baf",
       "version_major": 2,
       "version_minor": 0
      },
      "text/plain": [
       "Epoch 4/5:   0%|          | 0/194 [00:00<?, ?it/s]"
      ]
     },
     "metadata": {},
     "output_type": "display_data"
    },
    {
     "data": {
      "application/vnd.jupyter.widget-view+json": {
       "model_id": "78beb91534c24015bf5581d1d32d4c92",
       "version_major": 2,
       "version_minor": 0
      },
      "text/plain": [
       "Epoch 5/5:   0%|          | 0/194 [00:00<?, ?it/s]"
      ]
     },
     "metadata": {},
     "output_type": "display_data"
    },
    {
     "data": {
      "application/vnd.jupyter.widget-view+json": {
       "model_id": "75576288ab044170bad19c26acda5107",
       "version_major": 2,
       "version_minor": 0
      },
      "text/plain": [
       "Epoch 1/5:   0%|          | 0/194 [00:00<?, ?it/s]"
      ]
     },
     "metadata": {},
     "output_type": "display_data"
    },
    {
     "data": {
      "application/vnd.jupyter.widget-view+json": {
       "model_id": "168df1cbeafc42d0bd1d0955cc3a06e9",
       "version_major": 2,
       "version_minor": 0
      },
      "text/plain": [
       "Epoch 2/5:   0%|          | 0/194 [00:00<?, ?it/s]"
      ]
     },
     "metadata": {},
     "output_type": "display_data"
    },
    {
     "data": {
      "application/vnd.jupyter.widget-view+json": {
       "model_id": "9ec99b2299c84cbe8f31dd6473acca89",
       "version_major": 2,
       "version_minor": 0
      },
      "text/plain": [
       "Epoch 3/5:   0%|          | 0/194 [00:00<?, ?it/s]"
      ]
     },
     "metadata": {},
     "output_type": "display_data"
    },
    {
     "data": {
      "application/vnd.jupyter.widget-view+json": {
       "model_id": "7462afd5746945489997933712eed442",
       "version_major": 2,
       "version_minor": 0
      },
      "text/plain": [
       "Epoch 4/5:   0%|          | 0/194 [00:00<?, ?it/s]"
      ]
     },
     "metadata": {},
     "output_type": "display_data"
    },
    {
     "data": {
      "application/vnd.jupyter.widget-view+json": {
       "model_id": "9d00cbcd7df14f8a920f6264ab322618",
       "version_major": 2,
       "version_minor": 0
      },
      "text/plain": [
       "Epoch 5/5:   0%|          | 0/194 [00:00<?, ?it/s]"
      ]
     },
     "metadata": {},
     "output_type": "display_data"
    },
    {
     "data": {
      "application/vnd.jupyter.widget-view+json": {
       "model_id": "6a8d09a187d24df2b8d0c20a1533a8b8",
       "version_major": 2,
       "version_minor": 0
      },
      "text/plain": [
       "Epoch 1/5:   0%|          | 0/194 [00:00<?, ?it/s]"
      ]
     },
     "metadata": {},
     "output_type": "display_data"
    },
    {
     "data": {
      "application/vnd.jupyter.widget-view+json": {
       "model_id": "7115ae6a8ae649449a5f593e176d4f8a",
       "version_major": 2,
       "version_minor": 0
      },
      "text/plain": [
       "Epoch 2/5:   0%|          | 0/194 [00:00<?, ?it/s]"
      ]
     },
     "metadata": {},
     "output_type": "display_data"
    },
    {
     "data": {
      "application/vnd.jupyter.widget-view+json": {
       "model_id": "ef687fad4a584310ab759c2a727389ba",
       "version_major": 2,
       "version_minor": 0
      },
      "text/plain": [
       "Epoch 3/5:   0%|          | 0/194 [00:00<?, ?it/s]"
      ]
     },
     "metadata": {},
     "output_type": "display_data"
    },
    {
     "data": {
      "application/vnd.jupyter.widget-view+json": {
       "model_id": "217e92f37d35406cb3902367cbfa023d",
       "version_major": 2,
       "version_minor": 0
      },
      "text/plain": [
       "Epoch 4/5:   0%|          | 0/194 [00:00<?, ?it/s]"
      ]
     },
     "metadata": {},
     "output_type": "display_data"
    },
    {
     "data": {
      "application/vnd.jupyter.widget-view+json": {
       "model_id": "3e1154796987438d9eab747375836f79",
       "version_major": 2,
       "version_minor": 0
      },
      "text/plain": [
       "Epoch 5/5:   0%|          | 0/194 [00:00<?, ?it/s]"
      ]
     },
     "metadata": {},
     "output_type": "display_data"
    },
    {
     "data": {
      "application/vnd.jupyter.widget-view+json": {
       "model_id": "f1be50803b484693aa50a932e0db1ef2",
       "version_major": 2,
       "version_minor": 0
      },
      "text/plain": [
       "Epoch 1/5:   0%|          | 0/194 [00:00<?, ?it/s]"
      ]
     },
     "metadata": {},
     "output_type": "display_data"
    },
    {
     "data": {
      "application/vnd.jupyter.widget-view+json": {
       "model_id": "10a1804f33bb465a8b6e0282c0247825",
       "version_major": 2,
       "version_minor": 0
      },
      "text/plain": [
       "Epoch 2/5:   0%|          | 0/194 [00:00<?, ?it/s]"
      ]
     },
     "metadata": {},
     "output_type": "display_data"
    },
    {
     "data": {
      "application/vnd.jupyter.widget-view+json": {
       "model_id": "062b6788063646e1bfa4f1c5ac47dde4",
       "version_major": 2,
       "version_minor": 0
      },
      "text/plain": [
       "Epoch 3/5:   0%|          | 0/194 [00:00<?, ?it/s]"
      ]
     },
     "metadata": {},
     "output_type": "display_data"
    },
    {
     "data": {
      "application/vnd.jupyter.widget-view+json": {
       "model_id": "8d3ed803c857485088eb72cd21b26dc0",
       "version_major": 2,
       "version_minor": 0
      },
      "text/plain": [
       "Epoch 4/5:   0%|          | 0/194 [00:00<?, ?it/s]"
      ]
     },
     "metadata": {},
     "output_type": "display_data"
    },
    {
     "data": {
      "application/vnd.jupyter.widget-view+json": {
       "model_id": "d34042022b5f47299749920c2cb68dd1",
       "version_major": 2,
       "version_minor": 0
      },
      "text/plain": [
       "Epoch 5/5:   0%|          | 0/194 [00:00<?, ?it/s]"
      ]
     },
     "metadata": {},
     "output_type": "display_data"
    },
    {
     "data": {
      "text/plain": [
       "[('custom_k3_32-64', 0.7),\n",
       " ('custom_k3_64-128', 0.6774),\n",
       " ('custom_mixed_3-5_32-64', 0.5089),\n",
       " ('custom_k5_32-64', 0.4911)]"
      ]
     },
     "execution_count": 10,
     "metadata": {},
     "output_type": "execute_result"
    }
   ],
   "source": [
    "# — Execute: conv filters —\n",
    "conv_results = run_conv_experiments(epochs=5, batch_size=64, lr=1e-3)\n",
    "summarize_results(conv_results)"
   ]
  },
  {
   "cell_type": "code",
   "execution_count": 11,
   "id": "1cd4b7bb",
   "metadata": {},
   "outputs": [
    {
     "data": {
      "application/vnd.jupyter.widget-view+json": {
       "model_id": "63ca85b61b314f80a37d8d3b96028405",
       "version_major": 2,
       "version_minor": 0
      },
      "text/plain": [
       "Casting the dataset:   0%|          | 0/12413 [00:00<?, ? examples/s]"
      ]
     },
     "metadata": {},
     "output_type": "display_data"
    },
    {
     "data": {
      "application/vnd.jupyter.widget-view+json": {
       "model_id": "b3099985dbd941fd818cb68d720ed50e",
       "version_major": 2,
       "version_minor": 0
      },
      "text/plain": [
       "Casting the dataset:   0%|          | 0/12413 [00:00<?, ? examples/s]"
      ]
     },
     "metadata": {},
     "output_type": "display_data"
    },
    {
     "name": "stdout",
     "output_type": "stream",
     "text": [
      "Downloading: \"https://download.pytorch.org/models/resnet18-f37072fd.pth\" to /Users/kornel/.cache/torch/hub/checkpoints/resnet18-f37072fd.pth\n"
     ]
    },
    {
     "name": "stderr",
     "output_type": "stream",
     "text": [
      "100%|██████████| 44.7M/44.7M [00:03<00:00, 14.9MB/s]\n"
     ]
    },
    {
     "data": {
      "application/vnd.jupyter.widget-view+json": {
       "model_id": "9ed99308889a43528aced5ba19cc6f8f",
       "version_major": 2,
       "version_minor": 0
      },
      "text/plain": [
       "Epoch 1/5:   0%|          | 0/194 [00:00<?, ?it/s]"
      ]
     },
     "metadata": {},
     "output_type": "display_data"
    },
    {
     "data": {
      "application/vnd.jupyter.widget-view+json": {
       "model_id": "159b48caf4f14d8680eaf199e2795977",
       "version_major": 2,
       "version_minor": 0
      },
      "text/plain": [
       "Epoch 2/5:   0%|          | 0/194 [00:00<?, ?it/s]"
      ]
     },
     "metadata": {},
     "output_type": "display_data"
    },
    {
     "data": {
      "application/vnd.jupyter.widget-view+json": {
       "model_id": "bf508e6cc7a04366b63e39311c89008e",
       "version_major": 2,
       "version_minor": 0
      },
      "text/plain": [
       "Epoch 3/5:   0%|          | 0/194 [00:00<?, ?it/s]"
      ]
     },
     "metadata": {},
     "output_type": "display_data"
    },
    {
     "data": {
      "application/vnd.jupyter.widget-view+json": {
       "model_id": "b2f5dd921c23406195de7c90f7cd0642",
       "version_major": 2,
       "version_minor": 0
      },
      "text/plain": [
       "Epoch 4/5:   0%|          | 0/194 [00:00<?, ?it/s]"
      ]
     },
     "metadata": {},
     "output_type": "display_data"
    },
    {
     "data": {
      "application/vnd.jupyter.widget-view+json": {
       "model_id": "0769f54234b54ec3b340ee493ab96f25",
       "version_major": 2,
       "version_minor": 0
      },
      "text/plain": [
       "Epoch 5/5:   0%|          | 0/194 [00:00<?, ?it/s]"
      ]
     },
     "metadata": {},
     "output_type": "display_data"
    },
    {
     "name": "stdout",
     "output_type": "stream",
     "text": [
      "Downloading: \"https://download.pytorch.org/models/mobilenet_v3_small-047dcff4.pth\" to /Users/kornel/.cache/torch/hub/checkpoints/mobilenet_v3_small-047dcff4.pth\n"
     ]
    },
    {
     "name": "stderr",
     "output_type": "stream",
     "text": [
      "100%|██████████| 9.83M/9.83M [00:00<00:00, 12.3MB/s]\n"
     ]
    },
    {
     "data": {
      "application/vnd.jupyter.widget-view+json": {
       "model_id": "2f3aebabf32a49e5a54f24bbd2c061bc",
       "version_major": 2,
       "version_minor": 0
      },
      "text/plain": [
       "Epoch 1/5:   0%|          | 0/194 [00:00<?, ?it/s]"
      ]
     },
     "metadata": {},
     "output_type": "display_data"
    },
    {
     "data": {
      "application/vnd.jupyter.widget-view+json": {
       "model_id": "7a7552a9c3254a8db9a5fbac2f2badf4",
       "version_major": 2,
       "version_minor": 0
      },
      "text/plain": [
       "Epoch 2/5:   0%|          | 0/194 [00:00<?, ?it/s]"
      ]
     },
     "metadata": {},
     "output_type": "display_data"
    },
    {
     "data": {
      "application/vnd.jupyter.widget-view+json": {
       "model_id": "fe328237b7f24e2db839fa7dad9f0623",
       "version_major": 2,
       "version_minor": 0
      },
      "text/plain": [
       "Epoch 3/5:   0%|          | 0/194 [00:00<?, ?it/s]"
      ]
     },
     "metadata": {},
     "output_type": "display_data"
    },
    {
     "data": {
      "application/vnd.jupyter.widget-view+json": {
       "model_id": "0a4c8f759f1f4030a788d96117dfb117",
       "version_major": 2,
       "version_minor": 0
      },
      "text/plain": [
       "Epoch 4/5:   0%|          | 0/194 [00:00<?, ?it/s]"
      ]
     },
     "metadata": {},
     "output_type": "display_data"
    },
    {
     "data": {
      "application/vnd.jupyter.widget-view+json": {
       "model_id": "44ffa5ecf0b74a1c9e32a698fb0449dd",
       "version_major": 2,
       "version_minor": 0
      },
      "text/plain": [
       "Epoch 5/5:   0%|          | 0/194 [00:00<?, ?it/s]"
      ]
     },
     "metadata": {},
     "output_type": "display_data"
    },
    {
     "name": "stdout",
     "output_type": "stream",
     "text": [
      "Downloading: \"https://download.pytorch.org/models/efficientnet_b0_rwightman-7f5810bc.pth\" to /Users/kornel/.cache/torch/hub/checkpoints/efficientnet_b0_rwightman-7f5810bc.pth\n"
     ]
    },
    {
     "name": "stderr",
     "output_type": "stream",
     "text": [
      "100%|██████████| 20.5M/20.5M [00:01<00:00, 15.5MB/s]\n"
     ]
    },
    {
     "data": {
      "application/vnd.jupyter.widget-view+json": {
       "model_id": "4fb125f593cb45b8a2f5c1d5ab96061a",
       "version_major": 2,
       "version_minor": 0
      },
      "text/plain": [
       "Epoch 1/5:   0%|          | 0/194 [00:00<?, ?it/s]"
      ]
     },
     "metadata": {},
     "output_type": "display_data"
    },
    {
     "data": {
      "application/vnd.jupyter.widget-view+json": {
       "model_id": "ce33bf68d6a24906adcd166412e7837f",
       "version_major": 2,
       "version_minor": 0
      },
      "text/plain": [
       "Epoch 2/5:   0%|          | 0/194 [00:00<?, ?it/s]"
      ]
     },
     "metadata": {},
     "output_type": "display_data"
    },
    {
     "data": {
      "application/vnd.jupyter.widget-view+json": {
       "model_id": "1e5c6a538e564ca0838547da91994342",
       "version_major": 2,
       "version_minor": 0
      },
      "text/plain": [
       "Epoch 3/5:   0%|          | 0/194 [00:00<?, ?it/s]"
      ]
     },
     "metadata": {},
     "output_type": "display_data"
    },
    {
     "data": {
      "application/vnd.jupyter.widget-view+json": {
       "model_id": "216a8d94287e43b9b7cbc2398334af64",
       "version_major": 2,
       "version_minor": 0
      },
      "text/plain": [
       "Epoch 4/5:   0%|          | 0/194 [00:00<?, ?it/s]"
      ]
     },
     "metadata": {},
     "output_type": "display_data"
    },
    {
     "data": {
      "application/vnd.jupyter.widget-view+json": {
       "model_id": "6c19b7a250104b2c84a39088c352dfd9",
       "version_major": 2,
       "version_minor": 0
      },
      "text/plain": [
       "Epoch 5/5:   0%|          | 0/194 [00:00<?, ?it/s]"
      ]
     },
     "metadata": {},
     "output_type": "display_data"
    },
    {
     "data": {
      "text/plain": [
       "[('efficientnet_b0', 0.9097), ('mobilenet_v3_s', 0.8887), ('resnet18', 0.7758)]"
      ]
     },
     "execution_count": 11,
     "metadata": {},
     "output_type": "execute_result"
    }
   ],
   "source": [
    "# — Execute: model comparisons —\n",
    "model_results = run_model_experiments(epochs=5, batch_size=64, lr=1e-3, use_pretrained=True)\n",
    "summarize_results(model_results)"
   ]
  },
  {
   "cell_type": "code",
   "execution_count": 12,
   "id": "9c44d05b",
   "metadata": {},
   "outputs": [
    {
     "data": {
      "image/png": "[encoded data removed]",
      "text/plain": [
       "<Figure size 700x400 with 1 Axes>"
      ]
     },
     "metadata": {},
     "output_type": "display_data"
    },
    {
     "data": {
      "image/png": "[encoded data removed]",
      "text/plain": [
       "<Figure size 700x400 with 1 Axes>"
      ]
     },
     "metadata": {},
     "output_type": "display_data"
    },
    {
     "data": {
      "image/png": "[encoded data removed]",
      "text/plain": [
       "<Figure size 700x400 with 1 Axes>"
      ]
     },
     "metadata": {},
     "output_type": "display_data"
    },
    {
     "data": {
      "image/png": "[encoded data removed]",
      "text/plain": [
       "<Figure size 700x400 with 1 Axes>"
      ]
     },
     "metadata": {},
     "output_type": "display_data"
    },
    {
     "data": {
      "text/plain": [
       "(('custom_k3_32-64', 0.7), ('efficientnet_b0', 0.9097))"
      ]
     },
     "execution_count": 12,
     "metadata": {},
     "output_type": "execute_result"
    }
   ],
   "source": [
    "# — Plot best runs —\n",
    "best_conv = max(conv_results, key=lambda r: r[\"history\"][\"val_acc\"][-1])\n",
    "plot_history(best_conv[\"name\"], best_conv[\"history\"])\n",
    "\n",
    "best_model = max(model_results, key=lambda r: r[\"history\"][\"val_acc\"][-1])\n",
    "plot_history(best_model[\"name\"], best_model[\"history\"])\n",
    "\n",
    "(best_conv[\"name\"], round(best_conv[\"history\"][\"val_acc\"][-1],4)), (best_model[\"name\"], round(best_model[\"history\"][\"val_acc\"][-1],4))"
   ]
  }
 ],
 "metadata": {
  "kernelspec": {
   "display_name": ".venv",
   "language": "python",
   "name": "python3"
  },
  "language_info": {
   "codemirror_mode": {
    "name": "ipython",
    "version": 3
   },
   "file_extension": ".py",
   "mimetype": "text/x-python",
   "name": "python",
   "nbconvert_exporter": "python",
   "pygments_lexer": "ipython3",
   "version": "3.13.3"
  }
 },
 "nbformat": 4,
 "nbformat_minor": 5
}
